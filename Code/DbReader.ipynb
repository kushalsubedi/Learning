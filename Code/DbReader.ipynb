{
 "cells": [
  {
   "cell_type": "code",
   "execution_count": null,
   "id": "57008f0f",
   "metadata": {},
   "outputs": [],
   "source": [
    "\n"
   ]
  },
  {
   "cell_type": "code",
   "execution_count": 5,
   "id": "c772bb9f",
   "metadata": {},
   "outputs": [],
   "source": [
    "import pandas as pd\n",
    "import sqlite3 \n",
    "import os"
   ]
  },
  {
   "cell_type": "markdown",
   "id": "a77c138a",
   "metadata": {},
   "source": []
  },
  {
   "cell_type": "code",
   "execution_count": 7,
   "id": "26d7a74e",
   "metadata": {},
   "outputs": [
    {
     "name": "stdout",
     "output_type": "stream",
     "text": [
      "Connected to persons.db\n"
     ]
    },
    {
     "ename": "TypeError",
     "evalue": "exists() takes 1 positional argument but 2 were given",
     "output_type": "error",
     "traceback": [
      "\u001b[0;31m---------------------------------------------------------------------------\u001b[0m",
      "\u001b[0;31mTypeError\u001b[0m                                 Traceback (most recent call last)",
      "\u001b[1;32m/home/kushal/dev/MLS/Code/DbReader.ipynb Cell 4\u001b[0m line \u001b[0;36m6\n\u001b[1;32m      <a href='vscode-notebook-cell:/home/kushal/dev/MLS/Code/DbReader.ipynb#W5sZmlsZQ%3D%3D?line=2'>3</a>\u001b[0m     \u001b[39mprint\u001b[39m(\u001b[39m'\u001b[39m\u001b[39mConnected to persons.db\u001b[39m\u001b[39m'\u001b[39m)\n\u001b[1;32m      <a href='vscode-notebook-cell:/home/kushal/dev/MLS/Code/DbReader.ipynb#W5sZmlsZQ%3D%3D?line=4'>5</a>\u001b[0m Data_Folder\u001b[39m=\u001b[39m\u001b[39m'\u001b[39m\u001b[39mData\u001b[39m\u001b[39m'\u001b[39m\n\u001b[0;32m----> <a href='vscode-notebook-cell:/home/kushal/dev/MLS/Code/DbReader.ipynb#W5sZmlsZQ%3D%3D?line=5'>6</a>\u001b[0m \u001b[39mif\u001b[39;00m \u001b[39mnot\u001b[39;00m os\u001b[39m.\u001b[39;49mpath\u001b[39m.\u001b[39;49mexists(\u001b[39m\"\u001b[39;49m\u001b[39m..\u001b[39;49m\u001b[39m\"\u001b[39;49m,Data_Folder):\n\u001b[1;32m      <a href='vscode-notebook-cell:/home/kushal/dev/MLS/Code/DbReader.ipynb#W5sZmlsZQ%3D%3D?line=6'>7</a>\u001b[0m     os\u001b[39m.\u001b[39mmakedirs(Data_Folder)\n\u001b[1;32m      <a href='vscode-notebook-cell:/home/kushal/dev/MLS/Code/DbReader.ipynb#W5sZmlsZQ%3D%3D?line=7'>8</a>\u001b[0m query \u001b[39m=\u001b[39m \u001b[39m\"\u001b[39m\u001b[39mSELECT * FROM PERSON\u001b[39m\u001b[39m\"\u001b[39m\n",
      "\u001b[0;31mTypeError\u001b[0m: exists() takes 1 positional argument but 2 were given"
     ]
    }
   ],
   "source": [
    "conn = sqlite3.connect('persons.sqlite3') \n",
    "if conn:\n",
    "    print('Connected to persons.db')\n",
    "\n",
    "Data_Folder='../Data'\n",
    "if not os.path.exists(Data_Folder):\n",
    "    os.makedirs(Data_Folder)\n",
    "query = \"SELECT * FROM PERSON\"\n",
    "df = pd.read_sql_query(query, conn)\n",
    "csv_file = os.path.join(\"..\",Data_Folder, 'persons.csv')\n",
    "df.to_csv(csv_file, index=False)\n",
    "conn.close()"
   ]
  },
  {
   "cell_type": "code",
   "execution_count": null,
   "id": "474d3e89",
   "metadata": {},
   "outputs": [],
   "source": []
  }
 ],
 "metadata": {
  "kernelspec": {
   "display_name": "Python 3 (ipykernel)",
   "language": "python",
   "name": "python3"
  },
  "language_info": {
   "codemirror_mode": {
    "name": "ipython",
    "version": 3
   },
   "file_extension": ".py",
   "mimetype": "text/x-python",
   "name": "python",
   "nbconvert_exporter": "python",
   "pygments_lexer": "ipython3",
   "version": "3.11.2"
  }
 },
 "nbformat": 4,
 "nbformat_minor": 5
}
