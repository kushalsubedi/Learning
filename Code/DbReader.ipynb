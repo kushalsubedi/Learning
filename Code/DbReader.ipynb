{
 "cells": [
  {
   "cell_type": "code",
   "execution_count": null,
   "id": "57008f0f",
   "metadata": {},
   "outputs": [],
   "source": [
    "\n"
   ]
  },
  {
   "cell_type": "code",
   "execution_count": 5,
   "id": "c772bb9f",
   "metadata": {},
   "outputs": [],
   "source": [
    "import pandas as pd\n",
    "import sqlite3 \n",
    "import os"
   ]
  },
  {
   "cell_type": "markdown",
   "id": "a77c138a",
   "metadata": {},
   "source": []
  },
  {
   "cell_type": "code",
   "execution_count": null,
   "id": "26d7a74e",
   "metadata": {},
   "outputs": [],
   "source": [
    "conn = sqlite3.connect('persons.sqlite3') \n",
    "if conn:\n",
    "    print('Connected to persons.db')\n",
    "\n",
    "Data_Folder='Data'\n",
    "\n",
    "query = \"SELECT * FROM PERSON\"\n",
    "df = pd.read_sql_query(query, conn)\n",
    "csv_file = os.path.join(\"..\",Data_Folder, 'persons.csv')\n",
    "df.to_csv(csv_file, index=False)\n",
    "conn.close()"
   ]
  },
  {
   "cell_type": "code",
   "execution_count": null,
   "id": "474d3e89",
   "metadata": {},
   "outputs": [],
   "source": []
  }
 ],
 "metadata": {
  "kernelspec": {
   "display_name": "Python 3 (ipykernel)",
   "language": "python",
   "name": "python3"
  },
  "language_info": {
   "codemirror_mode": {
    "name": "ipython",
    "version": 3
   },
   "file_extension": ".py",
   "mimetype": "text/x-python",
   "name": "python",
   "nbconvert_exporter": "python",
   "pygments_lexer": "ipython3",
   "version": "3.11.2"
  }
 },
 "nbformat": 4,
 "nbformat_minor": 5
}
